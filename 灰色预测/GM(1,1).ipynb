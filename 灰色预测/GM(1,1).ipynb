{
 "cells": [
  {
   "cell_type": "markdown",
   "metadata": {},
   "source": [
    "# GM(1,1)"
   ]
  },
  {
   "cell_type": "markdown",
   "metadata": {},
   "source": [
    "## 原始数据检测\n",
    "### 是否有负数？是否有周期规律？\n",
    "画图呈现原始数据\n",
    "### 期数是否高于4期？是否低于10期？\n",
    "列表+画图呈现原始数据"
   ]
  },
  {
   "cell_type": "code",
   "execution_count": null,
   "metadata": {},
   "outputs": [],
   "source": [
    "import numpy as np\n",
    "import pandas as pd\n",
    "import matplotlib.pyplot as plt\n",
    "# 指定文件路径\n",
    "file_path = '指定路径/date.xlsx'\n",
    "# 使用pandas读取Excel文件\n",
    "myfile = pd.read_excel(file_path)\n",
    "# 选择第一列作为t，第二列作为d\n",
    "t = myfile.iloc[:, 0]  # 选择第一列\n",
    "date = myfile.iloc[:, 1]  # 选择第二列\n",
    "\n",
    "# 画折线图\n",
    "plt.plot(t, date, label='折线图')\n",
    "# 添加标题和轴标签\n",
    "plt.title('折线图')\n",
    "plt.xlabel('t')\n",
    "plt.ylabel('d')\n",
    "# 添加图例\n",
    "plt.legend()\n",
    "# 显示图形\n",
    "plt.show()"
   ]
  },
  {
   "cell_type": "markdown",
   "metadata": {},
   "source": [
    "### 准指数规律检验\n",
    "指标1：光滑比小于0.5的数据占比（一般要大于60%）\n",
    "指标2：除去前两个时期外，光滑比小于0.5的数据占比（一般大于90%）"
   ]
  },
  {
   "cell_type": "code",
   "execution_count": null,
   "metadata": {},
   "outputs": [],
   "source": [
    "X0 = np.array(date)\n",
    "X1 = X0.cumsum()\n",
    "rho = [X0[i] / X1[i - 1] for i in range(1,len(X0))]\n",
    "rho_ratio = [rho[i + 1] / rho[i] for i in range(len(rho) - 1)]\n",
    "threshold = len(rho)*0.6\n",
    "print(\"rho:\",rho)\n",
    "print(\"rho_ratio:\",rho_ratio)\n",
    "count_out = 0\n",
    "for i in range(1,len(rho) - 1):\n",
    "    if rho[i] > 0.5 or rho[i + 1] / rho[i] >= 1:\n",
    "        count_out += 1\n",
    "if rho[-1] > 0.5:\n",
    "    count_out += 1\n",
    "if count_out < threshold:\n",
    "    print(\"数据通过光滑校验\")\n",
    "else:\n",
    "    print(\"该数据未通过光滑校验\")"
   ]
  },
  {
   "cell_type": "markdown",
   "metadata": {},
   "source": [
    "级比检验"
   ]
  },
  {
   "cell_type": "code",
   "execution_count": null,
   "metadata": {},
   "outputs": [],
   "source": [
    "import math as mt\n",
    "for i in range(len(X0)-1):\n",
    "    l = X0[i]/X0[i+1]\n",
    "    if l <= mt.exp(-2/(len(X0)+1)) or l >= mt.exp(2/(len(X0)+1)):\n",
    "        break\n",
    "    else:\n",
    "        pass\n",
    "if i == len(X0)-2 and l > mt.exp(-2/(len(X0)+1)) and l < mt.exp(2/(len(X0)+1)):\n",
    "    print('级比检验通过')\n",
    "else:\n",
    "    print('级比检验不通过')\n"
   ]
  },
  {
   "cell_type": "markdown",
   "metadata": {},
   "source": [
    "级比检验不通过处理"
   ]
  },
  {
   "cell_type": "code",
   "execution_count": null,
   "metadata": {},
   "outputs": [],
   "source": [
    "import math as mt\n",
    "j = 1\n",
    "while True:\n",
    "    YO = [k+j for k in X0]\n",
    "    j += 1\n",
    "    for m in range(len(YO) - 1):\n",
    "        l = YO[m] / YO[m + 1]\n",
    "        if l > mt.exp(-2 / (len(X0) + 1)) and l < mt.exp(2 / (len(X0) + 1)):\n",
    "            b = True\n",
    "        else:\n",
    "            b = False\n",
    "            break\n",
    "    if b == True:\n",
    "        print(\"新的原始数列为：\",YO)\n",
    "        c = j -1\n",
    "        print(\"c的值为：\",c)\n",
    "        break\n",
    "    else:\n",
    "        continue"
   ]
  },
  {
   "cell_type": "markdown",
   "metadata": {},
   "source": [
    "## 模型训练和测试\n",
    "### 数据期数特别少\n",
    "分别计算出传统的GM(1,1)模型、新信息GM(1,1)模型和新陈代谢GM(1,1)模型对于未来期数的预测结果，为了保证结果的稳健性，对三个结果求平均值作为预测值。"
   ]
  },
  {
   "cell_type": "code",
   "execution_count": null,
   "metadata": {},
   "outputs": [],
   "source": [
    "Z = []\n",
    "j = 1\n",
    "while j < len(X1):\n",
    "    num = (X1[j] + X1[j - 1]) / 2\n",
    "    Z.append(num)\n",
    "    j = j + 1\n",
    "\n",
    "# 最小二乘法计算\n",
    "Y = []\n",
    "x_i = 0\n",
    "while x_i < len(X0) - 1:\n",
    "    x_i += 1\n",
    "    Y.append(X0[x_i])\n",
    "Y = np.mat(Y)\n",
    "Y = Y.reshape(-1,1)\n",
    "B = []\n",
    "b = 0\n",
    "while b < len(Z):\n",
    "    B.append(-Z[b])\n",
    "    b += 1\n",
    "B = np.mat(B)\n",
    "B = B.reshape(-1,1)\n",
    "c = np.ones((len(B),1))\n",
    "B = np.hstack((B,c))\n",
    "print(\"B\",B)\n",
    "\n",
    "# 求出参数\n",
    "alpha = np.linalg.inv(B.T.dot(B)).dot(B.T).dot(Y)\n",
    "a = alpha[0,0]\n",
    "b = alpha[1,0]\n",
    "print('alpha',alpha)\n",
    "print(\"a=\",a)\n",
    "print(\"b=\",b)\n",
    "\n",
    "# 生成预测模型\n",
    "GM = []\n",
    "GM.append(X0[0])\n",
    "did = b/a\n",
    "k = 1\n",
    "while k < len(X0):\n",
    "    GM.append((X0[0] - did) * mt.exp(-a * k) + did)\n",
    "    k += 1\n",
    "\n",
    "# 做差得到预测序列\n",
    "G = []\n",
    "G.append(X0[0])\n",
    "g = 1\n",
    "while g < len(X0):\n",
    "    G.append(round(GM[g] - GM[g - 1]))\n",
    "    g += 1\n",
    "print(\"预测数列为：\",G)"
   ]
  },
  {
   "cell_type": "markdown",
   "metadata": {},
   "source": [
    "### 数据期数较多\n",
    "取最后` k (k>1)如果k==1，则三个模型结果相等`期为试验组，前面的` n-k `期为训练组；\n",
    "用训练组的数据分别训练三种GM模型，将训练出来的模型分别用于预测试验组的两期数据\n",
    "利用试验组` k `期的真实数据和预测出来的两期数据，可分别计算出三个模型的SSE；选择SSE最小的模型作为我们建模的模型。"
   ]
  },
  {
   "cell_type": "markdown",
   "metadata": {},
   "source": [
    "## 评价模型\n",
    "输出并绘制图形显示预测结果，并进行残差检验和级比偏差检验。\n"
   ]
  },
  {
   "cell_type": "code",
   "execution_count": null,
   "metadata": {},
   "outputs": [],
   "source": [
    "import matplotlib.pyplot  as plt\n",
    "plt.rcParams['font.sans-serif'] = ['SimHei']\n",
    "plt.rcParams['axes.unicode_minus'] = False \n",
    "\n",
    "X0 = ['原始数据']\n",
    "G = ['预测数据']\n",
    "G = [g-37315 for g in G]\n",
    "r = range(len(X0))\n",
    "t = list(r)\n",
    "plt.plot(t,X0,color='r',linestyle=\"--\",label='true')\n",
    "plt.plot(t,G,color='b',linestyle=\"--\",label=\"predict\")\n",
    "plt.legend()\n",
    "plt.show()\n"
   ]
  },
  {
   "cell_type": "markdown",
   "metadata": {},
   "source": [
    "模型检验"
   ]
  },
  {
   "cell_type": "code",
   "execution_count": null,
   "metadata": {},
   "outputs": [],
   "source": [
    "import numpy as np\n",
    "import math as mt\n",
    "X0 = ['原始数据']\n",
    "G = ['预测数据']\n",
    "X0 = np.array(X0)\n",
    "G = np.array(G)\n",
    "e = X0 - G  #残差\n",
    "q = e / X0  # 相对误差\n",
    "w = 0\n",
    "for q_i in q:\n",
    "    w += q_i\n",
    "w = w/len(X0)\n",
    "print('精度为{}%'.format(round((1-w)*100,2)))\n",
    "\n",
    "s0 = np.var(X0)\n",
    "s1 = np.var(e)\n",
    "S0 = mt.sqrt(s0)\n",
    "S1 = mt.sqrt(s1)\n",
    "C = S1 / S0\n",
    "print('方差比为：',C)\n",
    "\n",
    "p = 0\n",
    "for s in range(len(e)):\n",
    "    if (abs(e[s]-np.mean(e)) < 0.6745 * S1):\n",
    "        p = p + 1\n",
    "P = p / len(e)\n",
    "print('小概率误差为：',P)\n"
   ]
  }
 ],
 "metadata": {
  "language_info": {
   "name": "python"
  }
 },
 "nbformat": 4,
 "nbformat_minor": 2
}
