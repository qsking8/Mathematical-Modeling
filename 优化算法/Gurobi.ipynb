{
 "cells": [
  {
   "cell_type": "markdown",
   "metadata": {},
   "source": [
    "这是一个简单的求解线性规划的例子："
   ]
  },
  {
   "cell_type": "code",
   "execution_count": null,
   "metadata": {},
   "outputs": [],
   "source": [
    "import gurobipy as grb\n",
    "\n",
    "model = grb.Model()\n",
    "\n",
    "# 定义整数变量\n",
    "x1 = model.addVar(vtype=grb.GRB.INTEGER, name='x1')\n",
    "x2 = model.addVar(vtype=grb.GRB.INTEGER, name='x2')\n",
    "\n",
    "# 添加约束\n",
    "model.addConstr(2 * x1 + 3 * x2 <= 14)\n",
    "model.addConstr(4 * x1 + 2 * x2 <= 18)\n",
    "model.addConstr(x1 >= 0)\n",
    "model.addConstr(x2 >= 0)\n",
    "\n",
    "# 定义目标函数\n",
    "model.setObjective(3 * x1 + 2 * x2, sense=grb.GRB.MAXIMIZE)\n",
    "\n",
    "# 求解\n",
    "model.optimize()\n",
    "print(\"目标函数值：\", model.objVal)\n",
    "for v in model.getVars():\n",
    "    print('参数', v.varName, '=', v.x)\n",
    "\n",
    "# 目标函数值： 14.0\n",
    "# 参数 x1 = 4.0\n",
    "# 参数 x2 = 1.0"
   ]
  }
 ],
 "metadata": {
  "language_info": {
   "name": "python"
  }
 },
 "nbformat": 4,
 "nbformat_minor": 2
}
